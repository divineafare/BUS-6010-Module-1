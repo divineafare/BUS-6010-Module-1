{
 "cells": [
  {
   "cell_type": "markdown",
   "id": "ca6bdc97",
   "metadata": {},
   "source": [
    "# Highridge Construction Company Payment Slips\n",
    "\n",
    "## Overview\n",
    "This project contains Python and R scripts to generate payment slips for 400 workers based on their salary and gender. The scripts classify workers into different Employee levels based on the specified conditions.\n",
    "\n",
    "## Files\n",
    "- `payment_slips.py`: Python script to generate payment slips.\n",
    "- `payment_slips.R`: R script to generate payment slips.\n",
    "- `README.md`: Instructions on how to use the scripts.\n",
    "\n"
   ]
  },
  {
   "cell_type": "markdown",
   "id": "76452039",
   "metadata": {},
   "source": [
    "### Python\n",
    "1. Ensure you have Python installed.\n",
    "2. Run the `payment_slips.py` script:\n",
    "3. The payment slips will be saved in `payment_slips.csv`.\n",
    "\n",
    "### R\n",
    "1. install  R installed along with the `data.table` and `dplyr` packages.\n",
    "2. Run the `payment_slips.R` script:\n"
   ]
  },
  {
   "cell_type": "markdown",
   "id": "95747084",
   "metadata": {},
   "source": [
    "3. The payment slips will be saved in `payment_slips_r.csv`.\n",
    "\n",
    "## Note\n",
    "- Ensure all dependencies are installed before running the scripts.\n",
    "- The scripts include exception handling for potential errors.\n"
   ]
  },
  {
   "cell_type": "code",
   "execution_count": null,
   "id": "cef25385",
   "metadata": {},
   "outputs": [],
   "source": []
  },
  {
   "cell_type": "code",
   "execution_count": null,
   "id": "c8e136a5",
   "metadata": {},
   "outputs": [],
   "source": []
  }
 ],
 "metadata": {
  "kernelspec": {
   "display_name": "Python 3 (ipykernel)",
   "language": "python",
   "name": "python3"
  },
  "language_info": {
   "codemirror_mode": {
    "name": "ipython",
    "version": 3
   },
   "file_extension": ".py",
   "mimetype": "text/x-python",
   "name": "python",
   "nbconvert_exporter": "python",
   "pygments_lexer": "ipython3",
   "version": "3.10.9"
  }
 },
 "nbformat": 4,
 "nbformat_minor": 5
}
