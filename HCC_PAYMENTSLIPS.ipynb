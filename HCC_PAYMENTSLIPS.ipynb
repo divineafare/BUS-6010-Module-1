{
 "cells": [
  {
   "cell_type": "code",
   "execution_count": 1,
   "id": "bce9b78c",
   "metadata": {},
   "outputs": [],
   "source": [
    "# import relevant library for the task\n",
    "import random\n",
    "import csv"
   ]
  },
  {
   "cell_type": "code",
   "execution_count": 2,
   "id": "58ce7458",
   "metadata": {},
   "outputs": [],
   "source": [
    "# Step 1 & 2: to create a list of workers\n",
    "workers = []\n",
    "for i in range(400):\n",
    "    worker = {\n",
    "        \"id\": i + 1,\n",
    "        \"name\": f\"Worker_{i + 1}\",\n",
    "        \"gender\": random.choice([\"Male\", \"Female\"]),\n",
    "        # Random salary between $5000 and $30000\n",
    "        \"salary\": random.uniform(5000, 30000)  \n",
    "    }\n",
    "    workers.append(worker)"
   ]
  },
  {
   "cell_type": "code",
   "execution_count": 4,
   "id": "e4960146",
   "metadata": {},
   "outputs": [],
   "source": [
    "# Step 3 & 4: Generate payment slips and determine Employee level\n",
    "payment_slips = []\n",
    "for worker in workers:\n",
    "    try:\n",
    "        # Determine Employee level based on salary and gender\n",
    "        if 10000 < worker[\"salary\"] < 20000:\n",
    "            worker[\"level\"] = \"A1\"\n",
    "        elif 7500 < worker[\"salary\"] < 30000 and worker[\"gender\"] == \"Female\":\n",
    "            worker[\"level\"] = \"A5-F\"\n",
    "        else:\n",
    "            # Default level\n",
    "            worker[\"level\"] = \"B\" \n",
    "            \n",
    "            # Create payment slip (here, simply adding to the list)\n",
    "        payment_slips.append({\n",
    "            \"id\": worker[\"id\"],\n",
    "            \"name\": worker[\"name\"],\n",
    "            \"gender\": worker[\"gender\"],\n",
    "            \"salary\": worker[\"salary\"],\n",
    "            \"level\": worker[\"level\"]\n",
    "        })\n",
    "    except Exception as e:\n",
    "        print(f\"Error processing worker ID {worker['id']}: {e}\")"
   ]
  },
  {
   "cell_type": "code",
   "execution_count": 5,
   "id": "9cee8a53",
   "metadata": {},
   "outputs": [],
   "source": [
    "# Step 5: Save the payment slips to a CSV file\n",
    "with open('HCC_Payment_Slips.csv', 'w', newline='') as file:\n",
    "    writer = csv.DictWriter(file, fieldnames=[\"id\", \"name\", \"gender\", \"salary\", \"level\"])\n",
    "    writer.writeheader()\n",
    "    writer.writerows(payment_slips)"
   ]
  },
  {
   "cell_type": "code",
   "execution_count": null,
   "id": "ca50f10c",
   "metadata": {},
   "outputs": [],
   "source": []
  }
 ],
 "metadata": {
  "kernelspec": {
   "display_name": "Python 3 (ipykernel)",
   "language": "python",
   "name": "python3"
  },
  "language_info": {
   "codemirror_mode": {
    "name": "ipython",
    "version": 3
   },
   "file_extension": ".py",
   "mimetype": "text/x-python",
   "name": "python",
   "nbconvert_exporter": "python",
   "pygments_lexer": "ipython3",
   "version": "3.10.9"
  }
 },
 "nbformat": 4,
 "nbformat_minor": 5
}
